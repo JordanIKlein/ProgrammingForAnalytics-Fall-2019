{
 "cells": [
  {
   "cell_type": "markdown",
   "metadata": {},
   "source": [
    "Searching for words within a text"
   ]
  },
  {
   "cell_type": "code",
   "execution_count": 59,
   "metadata": {},
   "outputs": [
    {
     "name": "stdout",
     "output_type": "stream",
     "text": [
      "3\n"
     ]
    }
   ],
   "source": [
    "tweet = \"My name is Jordan and i know python python python.\"\n",
    "tweetcount = tweet.split()\n",
    "print(tweet.count(\"python\"))"
   ]
  },
  {
   "cell_type": "code",
   "execution_count": 27,
   "metadata": {},
   "outputs": [
    {
     "name": "stdout",
     "output_type": "stream",
     "text": [
      "['Hello,', 'my', 'name', 'name', 'is', 'Jordan.', 'I', 'hope', 'you', 'enjoyed', 'this', 'Jupyter', 'Notebook.']\n"
     ]
    }
   ],
   "source": [
    "# Cleaning text and lowerasing all words\n",
    "textExample = \"Hello, my name name is Jordan. I hope you enjoyed this Jupyter Notebook.\"\n",
    "for char in '-.,\\n':\n",
    "    text= textExample.replace(char, '')\n",
    "text = text.lower\n",
    "#split returns a list of words delimited by a space\n",
    "word_list = textExample.split()\n",
    "print(word_list)"
   ]
  },
  {
   "cell_type": "code",
   "execution_count": 63,
   "metadata": {},
   "outputs": [
    {
     "name": "stdout",
     "output_type": "stream",
     "text": [
      "2\n"
     ]
    }
   ],
   "source": [
    "#initializing dictionary\n",
    "d = {}\n",
    "#counting number of times each word comes up in list of words (in dictionary) \n",
    "for word in word_list: #text.split\n",
    "    d[word]=d.get(word,1) + 1\n",
    "print (d[word])"
   ]
  },
  {
   "cell_type": "code",
   "execution_count": 64,
   "metadata": {},
   "outputs": [
    {
     "name": "stdout",
     "output_type": "stream",
     "text": [
      "[(2, 'Hello,'), (2, 'my'), (3, 'name'), (2, 'is'), (2, 'Jordan.'), (2, 'I'), (2, 'hope'), (2, 'you'), (2, 'enjoyed'), (2, 'this'), (2, 'Jupyter'), (2, 'Notebook.')]\n"
     ]
    }
   ],
   "source": [
    "#next, reverse the key and values so they can be sorted using tuples\n",
    "word_freq = []\n",
    "for key, value in d.items():\n",
    "    word_freq.append((value,key))\n",
    "print(word_freq)"
   ]
  },
  {
   "cell_type": "code",
   "execution_count": 65,
   "metadata": {},
   "outputs": [
    {
     "name": "stdout",
     "output_type": "stream",
     "text": [
      "[(3, 'name'), (2, 'you'), (2, 'this'), (2, 'my'), (2, 'is'), (2, 'hope'), (2, 'enjoyed'), (2, 'Notebook.'), (2, 'Jupyter'), (2, 'Jordan.'), (2, 'I'), (2, 'Hello,')]\n"
     ]
    }
   ],
   "source": [
    "#next, sort from highest to lowest\n",
    "word_freq.sort(reverse=True)\n",
    "print(word_freq)"
   ]
  }
 ],
 "metadata": {
  "kernelspec": {
   "display_name": "Python 3",
   "language": "python",
   "name": "python3"
  },
  "language_info": {
   "codemirror_mode": {
    "name": "ipython",
    "version": 3
   },
   "file_extension": ".py",
   "mimetype": "text/x-python",
   "name": "python",
   "nbconvert_exporter": "python",
   "pygments_lexer": "ipython3",
   "version": "3.6.5"
  },
  "toc": {
   "base_numbering": 1,
   "nav_menu": {},
   "number_sections": true,
   "sideBar": true,
   "skip_h1_title": false,
   "title_cell": "Table of Contents",
   "title_sidebar": "Contents",
   "toc_cell": false,
   "toc_position": {},
   "toc_section_display": true,
   "toc_window_display": false
  }
 },
 "nbformat": 4,
 "nbformat_minor": 4
}
