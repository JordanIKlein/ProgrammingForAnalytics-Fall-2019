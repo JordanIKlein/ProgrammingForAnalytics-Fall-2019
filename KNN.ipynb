{
 "cells": [
  {
   "cell_type": "code",
   "execution_count": 2,
   "metadata": {},
   "outputs": [
    {
     "name": "stdout",
     "output_type": "stream",
     "text": [
      "Accuracy of KNN model on the test data is 97.33%\n"
     ]
    }
   ],
   "source": [
    "# homegrown KNN\n",
    "from sklearn.datasets import load_iris\n",
    "from sklearn.model_selection import train_test_split\n",
    "from sklearn.neighbors import KNeighborsClassifier\n",
    "from sklearn import metrics\n",
    "from sklearn.metrics import accuracy_score\n",
    "import numpy as np\n",
    "# load in the iris data\n",
    "iris = load_iris()\n",
    "# create X (features) and y (response)\n",
    "X = iris.data   #access the data attribute\n",
    "y = iris.target # \n",
    "# split data\n",
    "X_train, X_test, y_train, y_test = train_test_split(X, y, stratify=y, test_size=.5, random_state=4)\n",
    "# select sepal features only (for easier 2D visualization)\n",
    "# CHANGE 1 of 2:  the following code to use all 4 inout features\n",
    "sepal_train = X_train\n",
    "sepal_test = X_test\n",
    "#  k=3 nearest neighbors\n",
    "# CHANGE 2 of 2:\n",
    "# REPLACE THE FOLLOWING CODE with your own code\n",
    "# \n",
    "'''\n",
    "predicted_class = np.zeros(shape=(sepal_test.shape[0]), dtype=np.int)\n",
    "for i in range(sepal_test.shape[0]):\n",
    "    k_nearest_neighbor_indices = np.argsort(np.linalg.norm(sepal_test[i] - sepal_train, ord=2, axis=1))[:n]\n",
    "    predicted_class[i] = np.argmax(np.bincount(y_train[k_nearest_neighbor_indices]))\n",
    "'''\n",
    "#My Version of KNN - Jordan Klein \n",
    "predicted_class = np.zeros(shape=(sepal_test.shape[0]), dtype=np.int)\n",
    "n = 3\n",
    "accuracy_list = []\n",
    "for j in range(sepal_test.shape[0]):\n",
    "    knn = KNeighborsClassifier(n_neighbors=n) #assigned K-Nearest-Neighbor to a specific variable\n",
    "    knn.fit(X_train,y_train) #We need to fit KNN which will speed up this search by creating various data structures based on the training set.\n",
    "    y_pred = knn.predict(X_test) # Here we are making predictions based on the X testing data \n",
    "    accuracy_list.append(metrics.accuracy_score(y_test,y_pred)) # here we are appending the accuracy scores to a list after going through each point\n",
    "print (f'Accuracy of KNN model on the test data is {np.round(accuracy_list[0]*100,2)}%') #Off of my calculations"
   ]
  },
  {
   "cell_type": "code",
   "execution_count": 3,
   "metadata": {
    "jupyter": {
     "source_hidden": true
    }
   },
   "outputs": [],
   "source": [
    "#PRACTICE/EXTRA CODE\n",
    "def euclidean_distances(x1, x2):\n",
    "    distances = np.sqrt((test[i]-train)**2+(test[i]-train)**2)\n",
    "    return distances"
   ]
  }
 ],
 "metadata": {
  "kernelspec": {
   "display_name": "Python 3",
   "language": "python",
   "name": "python3"
  },
  "language_info": {
   "codemirror_mode": {
    "name": "ipython",
    "version": 3
   },
   "file_extension": ".py",
   "mimetype": "text/x-python",
   "name": "python",
   "nbconvert_exporter": "python",
   "pygments_lexer": "ipython3",
   "version": "3.6.5"
  },
  "toc": {
   "base_numbering": 1,
   "nav_menu": {},
   "number_sections": true,
   "sideBar": true,
   "skip_h1_title": false,
   "title_cell": "Table of Contents",
   "title_sidebar": "Contents",
   "toc_cell": false,
   "toc_position": {},
   "toc_section_display": true,
   "toc_window_display": false
  }
 },
 "nbformat": 4,
 "nbformat_minor": 4
}
